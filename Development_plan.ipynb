{
  "nbformat": 4,
  "nbformat_minor": 0,
  "metadata": {
    "colab": {
      "provenance": [],
      "authorship_tag": "ABX9TyOQd9LPuqFNkE/oO/W22uqo",
      "include_colab_link": true
    },
    "kernelspec": {
      "name": "python3",
      "display_name": "Python 3"
    },
    "language_info": {
      "name": "python"
    }
  },
  "cells": [
    {
      "cell_type": "markdown",
      "metadata": {
        "id": "view-in-github",
        "colab_type": "text"
      },
      "source": [
        "<a href=\"https://colab.research.google.com/github/sonam1810/Business-Report/blob/main/Development_plan.ipynb\" target=\"_parent\"><img src=\"https://colab.research.google.com/assets/colab-badge.svg\" alt=\"Open In Colab\"/></a>"
      ]
    },
    {
      "cell_type": "markdown",
      "source": [
        "Pseudocode\n",
        "\n",
        "1. Start\n",
        "2. Write SQL query to count the number of emails per day using strftime and COUNT():\n",
        "     3. SELECT strftime('%Y-%m-%d', date) AS day, COUNT(*) AS email_count\n",
        "        FROM email_table\n",
        "        GROUP BY day\n",
        "        ORDER BY day DESC;\n",
        "4. Execute the SQL query and retrieve the results.\n",
        "5. Convert the query results into a dataframe using Pandas.\n",
        "6. Display the dataframe.\n",
        "7. Quit"
      ],
      "metadata": {
        "id": "6bqgUXHw3yQt"
      }
    },
    {
      "cell_type": "markdown",
      "source": [
        "Testing "
      ],
      "metadata": {
        "id": "f8MB92oU0Zzn"
      }
    },
    {
      "cell_type": "code",
      "source": [
        "import unittest\n",
        "import sqlite3\n",
        "\n",
        "conn = sqlite3.connect('enron_email.db')\n",
        "cursor = conn.cursor()\n",
        "\n",
        "class TestEnronEmailDataset(unittest.TestCase):\n",
        "\n",
        "  \n",
        "    def test_number_of_emails_sentpermonth(self):\n",
        "       \n",
        "        cursor.execute(\"SELECT COUNT(*) FROM emails\")\n",
        "        result = cursor.fetchone()[0]\n",
        "        self.assertEqual(result, 50000)"
      ],
      "metadata": {
        "id": "neMm2Pcn0VV5"
      },
      "execution_count": 14,
      "outputs": []
    }
  ]
}